{
 "cells": [
  {
   "cell_type": "code",
   "execution_count": 16,
   "metadata": {},
   "outputs": [],
   "source": [
    "import os\n",
    "import csv"
   ]
  },
  {
   "cell_type": "code",
   "execution_count": 17,
   "metadata": {},
   "outputs": [],
   "source": [
    "total_votes = 0\n",
    "khan_votes = 0\n",
    "correy_votes = 0\n",
    "li_votes = 0\n",
    "otooley_votes = 0\n",
    "\n",
    "csvpath = os.path.join('Resources/election_data.csv')"
   ]
  },
  {
   "cell_type": "code",
   "execution_count": 18,
   "metadata": {},
   "outputs": [
    {
     "name": "stdout",
     "output_type": "stream",
     "text": [
      "Election Results\n",
      "-------------------------\n",
      "Total Votes: 3521001\n",
      "-------------------------\n",
      "Khan: 63.000% (2218231)\n",
      "Correy: 20.000% (704200)\n",
      "Li: 14.000% (492940)\n",
      "O'Tooley: 3.000%(105630)\n",
      "-------------------------\n",
      "Winner: Khan\n",
      "-------------------------\n"
     ]
    }
   ],
   "source": [
    "with open(csvpath, newline='') as csvfile:\n",
    "\n",
    "   csvreader = csv.reader(csvfile, delimiter=',')\n",
    "   csv_header = next(csvfile)\n",
    "   \n",
    "   for row in csvreader:\n",
    "      total_votes += 1\n",
    "      if (row[2] == \"Khan\"):\n",
    "         khan_votes += 1\n",
    "      elif (row[2] == \"Correy\"):\n",
    "         correy_votes += 1\n",
    "      elif (row[2] == \"Li\"):\n",
    "         li_votes += 1\n",
    "      elif (row[2] == \"O'Tooley\"):\n",
    "         otooley_votes += 1\n",
    "      else:\n",
    "         print(winner_name)\n",
    "            \n",
    "   khan_percent = (khan_votes / total_votes) \n",
    "   correy_percent = (correy_votes / total_votes) \n",
    "   li_percent = (li_votes / total_votes) \n",
    "   otooley_percent = (otooley_votes / total_votes) \n",
    "\n",
    "   winner = max(khan_votes, correy_votes, li_votes, otooley_votes)\n",
    "\n",
    "   if winner == khan_votes:\n",
    "      winner_name = \"Khan\"\n",
    "   elif winner == correy_votes:\n",
    "      winner_name = \"Correy\"\n",
    "   elif winner == li_votes:\n",
    "      winner_name = \"Li\"\n",
    "   elif winner == otooley_votes:\n",
    "      winner_name = \"O'Tooley\"\n",
    "\n",
    "\n",
    "print(\"Election Results\")\n",
    "print(\"-------------------------\")\n",
    "print(\"Total Votes: \" + str(total_votes))\n",
    "print(\"-------------------------\")\n",
    "print(f\"Khan: {khan_percent:.3%} ({khan_votes})\")\n",
    "print(f\"Correy: {correy_percent:.3%} ({correy_votes})\")\n",
    "print(f\"Li: {li_percent:.3%} ({li_votes})\")\n",
    "print(f\"O'Tooley: {otooley_percent:.3%}({otooley_votes})\")\n",
    "print(\"-------------------------\")\n",
    "print(\"Winner: \" + winner_name)\n",
    "print(\"-------------------------\")"
   ]
  },
  {
   "cell_type": "code",
   "execution_count": 19,
   "metadata": {},
   "outputs": [],
   "source": [
    "output_file = os.path.join('Resources/election_results.text')\n",
    "with open(output_file, 'w',) as txtfile:\n",
    "   txtfile.write(f\"Election Results\\n\")\n",
    "   txtfile.write(f\"----------------------------\\n\")\n",
    "   txtfile.write(f\"Total Votes: {total_votes}\\n\")\n",
    "   txtfile.write(f\"----------------------------\\n\")\n",
    "   txtfile.write(f\"Khan: {khan_percent:.3%} ({khan_votes})\\n\")\n",
    "   txtfile.write(f\"Correy: {correy_percent:.3%} ({correy_votes})\\n\")\n",
    "   txtfile.write(f\"Li: {li_percent:.3%} ({li_votes})\\n\")\n",
    "   txtfile.write(f\"O'Tooley: {otooley_percent:.3%} ({otooley_votes})\\n\")\n",
    "   txtfile.write(f\"----------------------------\\n\")\n",
    "   txtfile.write(f\"Winner: {winner_name}\\n\")\n",
    "   txtfile.write(f\"----------------------------\\n\")"
   ]
  },
  {
   "cell_type": "code",
   "execution_count": null,
   "metadata": {},
   "outputs": [],
   "source": []
  },
  {
   "cell_type": "code",
   "execution_count": null,
   "metadata": {},
   "outputs": [],
   "source": []
  }
 ],
 "metadata": {
  "kernelspec": {
   "display_name": "Python 3",
   "language": "python",
   "name": "python3"
  },
  "language_info": {
   "codemirror_mode": {
    "name": "ipython",
    "version": 3
   },
   "file_extension": ".py",
   "mimetype": "text/x-python",
   "name": "python",
   "nbconvert_exporter": "python",
   "pygments_lexer": "ipython3",
   "version": "3.8.3"
  }
 },
 "nbformat": 4,
 "nbformat_minor": 4
}
