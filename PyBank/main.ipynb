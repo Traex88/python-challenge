{
 "cells": [
  {
   "cell_type": "code",
   "execution_count": 5,
   "metadata": {},
   "outputs": [],
   "source": [
    "import csv\n",
    "import os"
   ]
  },
  {
   "cell_type": "code",
   "execution_count": 6,
   "metadata": {},
   "outputs": [],
   "source": [
    "csvpath = os.path.join('Resources/budget_data.csv')\n",
    "total_months = []\n",
    "net_profit = []\n",
    "profit_change = []\n",
    "    "
   ]
  },
  {
   "cell_type": "code",
   "execution_count": 10,
   "metadata": {},
   "outputs": [],
   "source": [
    "with open(\"Resources/budget_data.csv\", newline = \"\")as csvfile:\n",
    "    csvreader = csv.reader(csvfile, delimiter = \",\")\n",
    "    header = next(csvreader)\n",
    "    \n",
    "    for row in csvreader:\n",
    "        total_months.append(row[0])\n",
    "        net_profit.append(int(row[1]))\n",
    "    for i in range(len(net_profit)-1):\n",
    "        profit_change.append(net_profit[i+1]-net_profit[i])\n",
    "        "
   ]
  },
  {
   "cell_type": "code",
   "execution_count": 11,
   "metadata": {},
   "outputs": [],
   "source": [
    "increase = max(profit_change)\n",
    "decrease = min(profit_change)\n",
    "monthly_increase = profit_change.index(max(profit_change))+1\n",
    "monthly_decrease = profit_change.index(min(profit_change))+1"
   ]
  },
  {
   "cell_type": "code",
   "execution_count": 12,
   "metadata": {},
   "outputs": [
    {
     "name": "stdout",
     "output_type": "stream",
     "text": [
      "Financial Analysis\n",
      "-------------------\n",
      "Total Months:86\n",
      "Total: $38382578\n",
      "Average Change:-2315.12\n",
      "Greatest Increase in Profits: Feb-2012 ($1926159)\n",
      "Greatest Decrease in Profits: Sep-2013 ($-2196167)\n"
     ]
    }
   ],
   "source": [
    "print(\"Financial Analysis\")\n",
    "print(\"-------------------\")\n",
    "print(f\"Total Months:{len(total_months)}\")\n",
    "print(f\"Total: ${sum(net_profit)}\")\n",
    "print(f\"Average Change:{round(sum(profit_change)/len(profit_change),2)}\")\n",
    "print(f\"Greatest Increase in Profits: {total_months[monthly_increase]} (${(str(increase))})\")\n",
    "print(f\"Greatest Decrease in Profits: {total_months[monthly_decrease]} (${(str(decrease))})\")"
   ]
  },
  {
   "cell_type": "code",
   "execution_count": 13,
   "metadata": {},
   "outputs": [],
   "source": [
    "output = \"output.txt\"\n",
    "with open(\"output\",\"w\") as new:\n",
    "    new.write(\"Financial Analysis\")\n",
    "    new.write(\"\\n\")\n",
    "    new.write(\"--------------------\")\n",
    "    new.write(\"\\n\")\n",
    "    new.write(f\"Total Months:{len(total_months)}\")\n",
    "    new.write(\"\\n\")\n",
    "    new.write(f\"Total: ${sum(net_profit)}\")\n",
    "    new.write(\"\\n\")\n",
    "    new.write(f\"Average Change: {round(sum(profit_change)/len(profit_change),2)}\")\n",
    "    new.write(\"\\n\")\n",
    "    new.write(f\"Greatest Increase in Profits: {total_months[monthly_increase]} (${(str(increase))})\")\n",
    "    new.write(\"\\n\")\n",
    "    new.write(f\"Greatest Decrease in Profits: {total_months[monthly_decrease]} (${(str(increase))})\")"
   ]
  },
  {
   "cell_type": "code",
   "execution_count": null,
   "metadata": {},
   "outputs": [],
   "source": []
  }
 ],
 "metadata": {
  "kernelspec": {
   "display_name": "Python 3",
   "language": "python",
   "name": "python3"
  },
  "language_info": {
   "codemirror_mode": {
    "name": "ipython",
    "version": 3
   },
   "file_extension": ".py",
   "mimetype": "text/x-python",
   "name": "python",
   "nbconvert_exporter": "python",
   "pygments_lexer": "ipython3",
   "version": "3.8.3"
  }
 },
 "nbformat": 4,
 "nbformat_minor": 4
}
